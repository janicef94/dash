{
 "cells": [
  {
   "cell_type": "code",
   "execution_count": null,
   "id": "c561eb91",
   "metadata": {},
   "outputs": [],
   "source": [
    "pip install dash\n",
    "\n",
    "import json\n",
    "import pandas as pd\n",
    "import plotly.graph_objects as go\n",
    "import plotly.express as px\n",
    "\n",
    "import dash  # (version 1.12.0) pip install dash\n",
    "from dash import dcc\n",
    "from dash import html\n",
    "from dash.dependencies import Input, Output\n",
    "\n",
    "df = pd.read_csv(r'C:\\Users\\fang\\Desktop\\Jan24\\commodity flow\\FAF2022database_ton\\FAF2022ton.csv')\n",
    "\n",
    "\n",
    "\n",
    "#new\n",
    "\n",
    "app.layout = html.Div([\n",
    "    html.Label(\"Origin:\"),\n",
    "    dcc.Dropdown(\n",
    "        id='origin',\n",
    "        options=[{'label': o, 'value': o} for o in sorted(df.dms_orig.unique())],\n",
    "        value='061-Los Angeles CA',\n",
    "        clearable=False\n",
    "    ),\n",
    "\n",
    "    html.Label(\"Modes of Transportation:\"),\n",
    "    dcc.Dropdown(id='modes', options=[{'label': m, 'value': m} for m in sorted(df.mode_t.unique())], \n",
    "                 value='2-Rail',multi=True),\n",
    "    \n",
    "    html.Label(\"SIC codes\"),\n",
    "    dcc.Dropdown(id='codes', options=[{'label': s, 'value': s} for s in sorted(df.sctg2_t.unique())],\n",
    "                 value='36-Motorized vehicles', multi=True),\n",
    "\n",
    "    dcc.Graph(id='map', figure={})\n",
    "])\n",
    "\n",
    "@app.callback(\n",
    "    Output(component_id='map',component_property='figure'),\n",
    "    Input(component_id='origin',component_property='value'),\n",
    "    Input(component_id='modes',component_property='value'),\n",
    "    Input(component_id='codes',component_property='value')\n",
    ")\n",
    "def update_grpah(selected_o, selected_m, selected_s):    \n",
    "    dff = df.copy()\n",
    "    df2 = dff[(dff['dms_orig']==selected_o)&(dff['mode_t']==selected_m)&(dff['sctg2_t']==selected_s)]\n",
    "    fig = px.choropleth_mapbox(df2, geojson=basemap, featureidkey='properties.FAF_Zone',\n",
    "                               locations='dest', color='tht_22',\n",
    "                               center={\"lat\": 39, \"lon\": -95},\n",
    "                               mapbox_style=\"carto-positron\",zoom=3)\n",
    "    fig.update_layout(margin={\"r\":0,\"t\":0,\"l\":0,\"b\":0})\n",
    "    return fig\n",
    "if __name__ == '__main__':\n",
    "    app.run(jupyter_mode=\"external\",debug=False)"
   ]
  }
 ],
 "metadata": {
  "kernelspec": {
   "display_name": "Python 3 (ipykernel)",
   "language": "python",
   "name": "python3"
  },
  "language_info": {
   "codemirror_mode": {
    "name": "ipython",
    "version": 3
   },
   "file_extension": ".py",
   "mimetype": "text/x-python",
   "name": "python",
   "nbconvert_exporter": "python",
   "pygments_lexer": "ipython3",
   "version": "3.11.4"
  }
 },
 "nbformat": 4,
 "nbformat_minor": 5
}
